{
 "cells": [
  {
   "cell_type": "code",
   "execution_count": null,
   "id": "24300eee",
   "metadata": {},
   "outputs": [],
   "source": [
    "# Importing the libraries\n",
    "\n",
    "import numpy as np\n",
    "import tensorflow as tf\n",
    "import ktrain \n",
    "from ktrain import text\n",
    "print(\"success\")"
   ]
  },
  {
   "cell_type": "markdown",
   "id": "cc9f1680",
   "metadata": {},
   "source": [
    "## Part 1: Data Preprocessing"
   ]
  },
  {
   "cell_type": "code",
   "execution_count": null,
   "id": "818ea139",
   "metadata": {},
   "outputs": [],
   "source": [
    "#  Loading the IMDB dataset\n",
    "\n",
    "dataset = tf.keras.utils.get_file()"
   ]
  }
 ],
 "metadata": {
  "kernelspec": {
   "display_name": "tensor",
   "language": "python",
   "name": "tensor"
  },
  "language_info": {
   "codemirror_mode": {
    "name": "ipython",
    "version": 3
   },
   "file_extension": ".py",
   "mimetype": "text/x-python",
   "name": "python",
   "nbconvert_exporter": "python",
   "pygments_lexer": "ipython3",
   "version": "3.8.0"
  }
 },
 "nbformat": 4,
 "nbformat_minor": 5
}
